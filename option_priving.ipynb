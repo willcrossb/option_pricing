{
 "cells": [
  {
   "cell_type": "code",
   "execution_count": 1,
   "metadata": {},
   "outputs": [],
   "source": [
    "import pandas as pd\n",
    "import numpy as np\n",
    "import yfinance as yf\n",
    "import datetime"
   ]
  },
  {
   "cell_type": "code",
   "execution_count": 3,
   "metadata": {},
   "outputs": [
    {
     "name": "stdout",
     "output_type": "stream",
     "text": [
      "data/tsla_eod_202101.txt\n",
      "data/tsla_eod_202102.txt\n",
      "data/tsla_eod_202103.txt\n",
      "data/tsla_eod_202104.txt\n",
      "data/tsla_eod_202105.txt\n",
      "data/tsla_eod_202106.txt\n",
      "data/tsla_eod_202107.txt\n",
      "data/tsla_eod_202108.txt\n",
      "data/tsla_eod_202109.txt\n",
      "data/tsla_eod_202110.txt\n",
      "data/tsla_eod_202111.txt\n"
     ]
    },
    {
     "name": "stderr",
     "output_type": "stream",
     "text": [
      "/var/folders/3_/4hp02k9s28l0xngsnvfp3jl40000gn/T/ipykernel_65589/3548119782.py:15: DtypeWarning: Columns (29) have mixed types. Specify dtype option on import or set low_memory=False.\n",
      "  df_add = pd.read_csv(fname)\n"
     ]
    },
    {
     "name": "stdout",
     "output_type": "stream",
     "text": [
      "data/tsla_eod_202112.txt\n"
     ]
    },
    {
     "name": "stderr",
     "output_type": "stream",
     "text": [
      "/var/folders/3_/4hp02k9s28l0xngsnvfp3jl40000gn/T/ipykernel_65589/3548119782.py:15: DtypeWarning: Columns (29) have mixed types. Specify dtype option on import or set low_memory=False.\n",
      "  df_add = pd.read_csv(fname)\n"
     ]
    },
    {
     "data": {
      "text/html": [
       "<div>\n",
       "<style scoped>\n",
       "    .dataframe tbody tr th:only-of-type {\n",
       "        vertical-align: middle;\n",
       "    }\n",
       "\n",
       "    .dataframe tbody tr th {\n",
       "        vertical-align: top;\n",
       "    }\n",
       "\n",
       "    .dataframe thead th {\n",
       "        text-align: right;\n",
       "    }\n",
       "</style>\n",
       "<table border=\"1\" class=\"dataframe\">\n",
       "  <thead>\n",
       "    <tr style=\"text-align: right;\">\n",
       "      <th></th>\n",
       "      <th>QUOTE_UNIXTIME</th>\n",
       "      <th>QUOTE_READTIME</th>\n",
       "      <th>QUOTE_DATE</th>\n",
       "      <th>QUOTE_TIME_HOURS</th>\n",
       "      <th>UNDERLYING_LAST</th>\n",
       "      <th>EXPIRE_DATE</th>\n",
       "      <th>EXPIRE_UNIX</th>\n",
       "      <th>DTE</th>\n",
       "      <th>C_DELTA</th>\n",
       "      <th>C_GAMMA</th>\n",
       "      <th>...</th>\n",
       "      <th>P_DELTA</th>\n",
       "      <th>P_GAMMA</th>\n",
       "      <th>P_VEGA</th>\n",
       "      <th>P_THETA</th>\n",
       "      <th>P_RHO</th>\n",
       "      <th>P_IV</th>\n",
       "      <th>P_VOLUME</th>\n",
       "      <th>STRIKE_DISTANCE</th>\n",
       "      <th>STRIKE_DISTANCE_PCT</th>\n",
       "      <th>QUOTE_UNIXTIME</th>\n",
       "    </tr>\n",
       "  </thead>\n",
       "  <tbody>\n",
       "    <tr>\n",
       "      <th>0</th>\n",
       "      <td>1.609794e+09</td>\n",
       "      <td>2021-01-04 16:00</td>\n",
       "      <td>2021-01-04</td>\n",
       "      <td>16.0</td>\n",
       "      <td>729.77</td>\n",
       "      <td>2021-01-08</td>\n",
       "      <td>1610139600</td>\n",
       "      <td>4.0</td>\n",
       "      <td>1.00000</td>\n",
       "      <td>0.00000</td>\n",
       "      <td>...</td>\n",
       "      <td>-0.00055</td>\n",
       "      <td>-0.00001</td>\n",
       "      <td>0.00116</td>\n",
       "      <td>-0.01651</td>\n",
       "      <td>0.00000</td>\n",
       "      <td>1.954410</td>\n",
       "      <td>450.000000</td>\n",
       "      <td>379.8</td>\n",
       "      <td>0.520</td>\n",
       "      <td>NaN</td>\n",
       "    </tr>\n",
       "    <tr>\n",
       "      <th>1</th>\n",
       "      <td>1.609794e+09</td>\n",
       "      <td>2021-01-04 16:00</td>\n",
       "      <td>2021-01-04</td>\n",
       "      <td>16.0</td>\n",
       "      <td>729.77</td>\n",
       "      <td>2021-01-08</td>\n",
       "      <td>1610139600</td>\n",
       "      <td>4.0</td>\n",
       "      <td>0.99955</td>\n",
       "      <td>0.00000</td>\n",
       "      <td>...</td>\n",
       "      <td>-0.00052</td>\n",
       "      <td>0.00005</td>\n",
       "      <td>0.00214</td>\n",
       "      <td>-0.01966</td>\n",
       "      <td>-0.00004</td>\n",
       "      <td>1.915350</td>\n",
       "      <td>69.000000</td>\n",
       "      <td>369.8</td>\n",
       "      <td>0.507</td>\n",
       "      <td>NaN</td>\n",
       "    </tr>\n",
       "    <tr>\n",
       "      <th>2</th>\n",
       "      <td>1.609794e+09</td>\n",
       "      <td>2021-01-04 16:00</td>\n",
       "      <td>2021-01-04</td>\n",
       "      <td>16.0</td>\n",
       "      <td>729.77</td>\n",
       "      <td>2021-01-08</td>\n",
       "      <td>1610139600</td>\n",
       "      <td>4.0</td>\n",
       "      <td>1.00000</td>\n",
       "      <td>0.00000</td>\n",
       "      <td>...</td>\n",
       "      <td>-0.00015</td>\n",
       "      <td>0.00006</td>\n",
       "      <td>0.00145</td>\n",
       "      <td>-0.01941</td>\n",
       "      <td>-0.00015</td>\n",
       "      <td>1.844300</td>\n",
       "      <td>27.000000</td>\n",
       "      <td>359.8</td>\n",
       "      <td>0.493</td>\n",
       "      <td>NaN</td>\n",
       "    </tr>\n",
       "    <tr>\n",
       "      <th>3</th>\n",
       "      <td>1.609794e+09</td>\n",
       "      <td>2021-01-04 16:00</td>\n",
       "      <td>2021-01-04</td>\n",
       "      <td>16.0</td>\n",
       "      <td>729.77</td>\n",
       "      <td>2021-01-08</td>\n",
       "      <td>1610139600</td>\n",
       "      <td>4.0</td>\n",
       "      <td>0.99686</td>\n",
       "      <td>0.00004</td>\n",
       "      <td>...</td>\n",
       "      <td>-0.00115</td>\n",
       "      <td>0.00003</td>\n",
       "      <td>0.00245</td>\n",
       "      <td>-0.02374</td>\n",
       "      <td>0.00000</td>\n",
       "      <td>1.802300</td>\n",
       "      <td>43.000000</td>\n",
       "      <td>349.8</td>\n",
       "      <td>0.479</td>\n",
       "      <td>NaN</td>\n",
       "    </tr>\n",
       "    <tr>\n",
       "      <th>4</th>\n",
       "      <td>1.609794e+09</td>\n",
       "      <td>2021-01-04 16:00</td>\n",
       "      <td>2021-01-04</td>\n",
       "      <td>16.0</td>\n",
       "      <td>729.77</td>\n",
       "      <td>2021-01-08</td>\n",
       "      <td>1610139600</td>\n",
       "      <td>4.0</td>\n",
       "      <td>1.00000</td>\n",
       "      <td>0.00000</td>\n",
       "      <td>...</td>\n",
       "      <td>-0.00106</td>\n",
       "      <td>0.00000</td>\n",
       "      <td>0.00249</td>\n",
       "      <td>-0.03007</td>\n",
       "      <td>0.00000</td>\n",
       "      <td>1.776700</td>\n",
       "      <td>34.000000</td>\n",
       "      <td>339.8</td>\n",
       "      <td>0.466</td>\n",
       "      <td>NaN</td>\n",
       "    </tr>\n",
       "  </tbody>\n",
       "</table>\n",
       "<p>5 rows × 34 columns</p>\n",
       "</div>"
      ],
      "text/plain": [
       "   QUOTE_UNIXTIME     QUOTE_READTIME   QUOTE_DATE  QUOTE_TIME_HOURS  \\\n",
       "0    1.609794e+09   2021-01-04 16:00   2021-01-04              16.0   \n",
       "1    1.609794e+09   2021-01-04 16:00   2021-01-04              16.0   \n",
       "2    1.609794e+09   2021-01-04 16:00   2021-01-04              16.0   \n",
       "3    1.609794e+09   2021-01-04 16:00   2021-01-04              16.0   \n",
       "4    1.609794e+09   2021-01-04 16:00   2021-01-04              16.0   \n",
       "\n",
       "   UNDERLYING_LAST  EXPIRE_DATE  EXPIRE_UNIX  DTE  C_DELTA  C_GAMMA  ...  \\\n",
       "0           729.77   2021-01-08   1610139600  4.0  1.00000  0.00000  ...   \n",
       "1           729.77   2021-01-08   1610139600  4.0  0.99955  0.00000  ...   \n",
       "2           729.77   2021-01-08   1610139600  4.0  1.00000  0.00000  ...   \n",
       "3           729.77   2021-01-08   1610139600  4.0  0.99686  0.00004  ...   \n",
       "4           729.77   2021-01-08   1610139600  4.0  1.00000  0.00000  ...   \n",
       "\n",
       "   P_DELTA  P_GAMMA   P_VEGA  P_THETA    P_RHO       P_IV     P_VOLUME  \\\n",
       "0 -0.00055 -0.00001  0.00116 -0.01651  0.00000   1.954410   450.000000   \n",
       "1 -0.00052  0.00005  0.00214 -0.01966 -0.00004   1.915350    69.000000   \n",
       "2 -0.00015  0.00006  0.00145 -0.01941 -0.00015   1.844300    27.000000   \n",
       "3 -0.00115  0.00003  0.00245 -0.02374  0.00000   1.802300    43.000000   \n",
       "4 -0.00106  0.00000  0.00249 -0.03007  0.00000   1.776700    34.000000   \n",
       "\n",
       "   STRIKE_DISTANCE  STRIKE_DISTANCE_PCT  QUOTE_UNIXTIME  \n",
       "0            379.8                0.520             NaN  \n",
       "1            369.8                0.507             NaN  \n",
       "2            359.8                0.493             NaN  \n",
       "3            349.8                0.479             NaN  \n",
       "4            339.8                0.466             NaN  \n",
       "\n",
       "[5 rows x 34 columns]"
      ]
     },
     "execution_count": 3,
     "metadata": {},
     "output_type": "execute_result"
    }
   ],
   "source": [
    "#Loop over each month of data and append\n",
    "#Data source: free daily options chains downloaded from here:\n",
    "#https://www.optionsdx.com/product/tsla-option-chains/\n",
    "\n",
    "df_year = pd.DataFrame()\n",
    "\n",
    "for month in range(1,13):\n",
    "    if month <10:\n",
    "        month_str = f\"0{month}\"\n",
    "    else:\n",
    "        month_str = f\"{month}\"\n",
    "        \n",
    "    fname = f\"data/tsla_eod_2021{month_str}.txt\"\n",
    "    print(fname)\n",
    "    df_add = pd.read_csv(fname)\n",
    "    df_year = pd.concat([df_year, df_add])\n",
    "\n",
    "#Reformat tricky column names containisn sqaure brackets\n",
    "df_year.columns = df_year.columns.str.strip(\" \")\n",
    "df_year.columns = df_year.columns.str.strip(\"[]\")\n",
    "df_year.head()\n"
   ]
  },
  {
   "cell_type": "code",
   "execution_count": 9,
   "metadata": {},
   "outputs": [
    {
     "data": {
      "text/plain": [
       "<AxesSubplot:xlabel='date'>"
      ]
     },
     "execution_count": 9,
     "metadata": {},
     "output_type": "execute_result"
    },
    {
     "data": {
      "image/png": "[encoded data removed]",
      "text/plain": [
       "<Figure size 432x288 with 1 Axes>"
      ]
     },
     "metadata": {
      "needs_background": "light"
     },
     "output_type": "display_data"
    }
   ],
   "source": [
    "import datetime\n",
    "df = df_year\n",
    "\n",
    "df['date'] =  pd.to_datetime(df['QUOTE_DATE'])\n",
    "df = df.set_index('date')\n",
    "df = df.sort_index()\n",
    "df = df[(df.STRIKE == 400)]\n",
    "df = df[(df.STRIKE == 400) & (df.EXPIRE_UNIX == 1626465600)]\n",
    "\n",
    "#https://www.optionsdx.com/option-chain-field-definitions/\n",
    "df.plot(y=['UNDERLYING_LAST','C_LAST'], kind='line')\n",
    "\n",
    "#df =df.loc['1990-7-1':'2021-07-01']\n",
    "#df['C_IV'] = pd.to_numeric(df['C_IV'])\n"
   ]
  },
  {
   "cell_type": "code",
   "execution_count": 8,
   "metadata": {},
   "outputs": [
    {
     "ename": "TypeError",
     "evalue": "unsupported operand type(s) for ** or pow(): 'str' and 'int'",
     "output_type": "error",
     "traceback": [
      "\u001b[0;31m---------------------------------------------------------------------------\u001b[0m",
      "\u001b[0;31mTypeError\u001b[0m                                 Traceback (most recent call last)",
      "\u001b[1;32m/Users/wcrossb/Library/Mobile Documents/com~apple~CloudDocs/Desktop/Desktop - Will’s MacBook Pro/python/projects/personal/option_pricing/option_priving.ipynb Cell 4\u001b[0m in \u001b[0;36m<cell line: 21>\u001b[0;34m()\u001b[0m\n\u001b[1;32m     <a href='vscode-notebook-cell:/Users/wcrossb/Library/Mobile%20Documents/com~apple~CloudDocs/Desktop/Desktop%20-%20Will%E2%80%99s%20MacBook%20Pro/python/projects/personal/option_pricing/option_priving.ipynb#W2sZmlsZQ%3D%3D?line=16'>17</a>\u001b[0m     \u001b[39mreturn\u001b[39;00m K\u001b[39m*\u001b[39mexp(\u001b[39m-\u001b[39mr\u001b[39m*\u001b[39mT)\u001b[39m-\u001b[39mS\u001b[39m*\u001b[39mbs_call(S,K,T,r,sigma)\n\u001b[1;32m     <a href='vscode-notebook-cell:/Users/wcrossb/Library/Mobile%20Documents/com~apple~CloudDocs/Desktop/Desktop%20-%20Will%E2%80%99s%20MacBook%20Pro/python/projects/personal/option_pricing/option_priving.ipynb#W2sZmlsZQ%3D%3D?line=18'>19</a>\u001b[0m sigma \u001b[39m=\u001b[39m \u001b[39m.01\u001b[39m\n\u001b[0;32m---> <a href='vscode-notebook-cell:/Users/wcrossb/Library/Mobile%20Documents/com~apple~CloudDocs/Desktop/Desktop%20-%20Will%E2%80%99s%20MacBook%20Pro/python/projects/personal/option_pricing/option_priving.ipynb#W2sZmlsZQ%3D%3D?line=20'>21</a>\u001b[0m df[\u001b[39m'\u001b[39m\u001b[39md1\u001b[39m\u001b[39m'\u001b[39m] \u001b[39m=\u001b[39m df\u001b[39m.\u001b[39;49mapply(\u001b[39mlambda\u001b[39;49;00m x: d1(x\u001b[39m.\u001b[39;49mUNDERLYING_LAST,x\u001b[39m.\u001b[39;49mSTRIKE,x\u001b[39m.\u001b[39;49mDTE,x\u001b[39m.\u001b[39;49mrf,x\u001b[39m.\u001b[39;49mC_IV), axis\u001b[39m=\u001b[39;49m\u001b[39m1\u001b[39;49m)\n\u001b[1;32m     <a href='vscode-notebook-cell:/Users/wcrossb/Library/Mobile%20Documents/com~apple~CloudDocs/Desktop/Desktop%20-%20Will%E2%80%99s%20MacBook%20Pro/python/projects/personal/option_pricing/option_priving.ipynb#W2sZmlsZQ%3D%3D?line=21'>22</a>\u001b[0m \u001b[39mprint\u001b[39m(df\u001b[39m.\u001b[39md1)\n\u001b[1;32m     <a href='vscode-notebook-cell:/Users/wcrossb/Library/Mobile%20Documents/com~apple~CloudDocs/Desktop/Desktop%20-%20Will%E2%80%99s%20MacBook%20Pro/python/projects/personal/option_pricing/option_priving.ipynb#W2sZmlsZQ%3D%3D?line=22'>23</a>\u001b[0m df[\u001b[39m'\u001b[39m\u001b[39mC_price_WCB\u001b[39m\u001b[39m'\u001b[39m] \u001b[39m=\u001b[39m df\u001b[39m.\u001b[39mapply(\u001b[39mlambda\u001b[39;00m x: bs_call(x\u001b[39m.\u001b[39mUNDERLYING_LAST,x\u001b[39m.\u001b[39mSTRIKE,x\u001b[39m.\u001b[39mDTE,x\u001b[39m.\u001b[39mrf,sigma), axis\u001b[39m=\u001b[39m\u001b[39m1\u001b[39m)\n",
      "File \u001b[0;32m~/opt/anaconda3/lib/python3.9/site-packages/pandas/core/frame.py:8839\u001b[0m, in \u001b[0;36mDataFrame.apply\u001b[0;34m(self, func, axis, raw, result_type, args, **kwargs)\u001b[0m\n\u001b[1;32m   8828\u001b[0m \u001b[39mfrom\u001b[39;00m \u001b[39mpandas\u001b[39;00m\u001b[39m.\u001b[39;00m\u001b[39mcore\u001b[39;00m\u001b[39m.\u001b[39;00m\u001b[39mapply\u001b[39;00m \u001b[39mimport\u001b[39;00m frame_apply\n\u001b[1;32m   8830\u001b[0m op \u001b[39m=\u001b[39m frame_apply(\n\u001b[1;32m   8831\u001b[0m     \u001b[39mself\u001b[39m,\n\u001b[1;32m   8832\u001b[0m     func\u001b[39m=\u001b[39mfunc,\n\u001b[0;32m   (...)\u001b[0m\n\u001b[1;32m   8837\u001b[0m     kwargs\u001b[39m=\u001b[39mkwargs,\n\u001b[1;32m   8838\u001b[0m )\n\u001b[0;32m-> 8839\u001b[0m \u001b[39mreturn\u001b[39;00m op\u001b[39m.\u001b[39;49mapply()\u001b[39m.\u001b[39m__finalize__(\u001b[39mself\u001b[39m, method\u001b[39m=\u001b[39m\u001b[39m\"\u001b[39m\u001b[39mapply\u001b[39m\u001b[39m\"\u001b[39m)\n",
      "File \u001b[0;32m~/opt/anaconda3/lib/python3.9/site-packages/pandas/core/apply.py:727\u001b[0m, in \u001b[0;36mFrameApply.apply\u001b[0;34m(self)\u001b[0m\n\u001b[1;32m    724\u001b[0m \u001b[39melif\u001b[39;00m \u001b[39mself\u001b[39m\u001b[39m.\u001b[39mraw:\n\u001b[1;32m    725\u001b[0m     \u001b[39mreturn\u001b[39;00m \u001b[39mself\u001b[39m\u001b[39m.\u001b[39mapply_raw()\n\u001b[0;32m--> 727\u001b[0m \u001b[39mreturn\u001b[39;00m \u001b[39mself\u001b[39;49m\u001b[39m.\u001b[39;49mapply_standard()\n",
      "File \u001b[0;32m~/opt/anaconda3/lib/python3.9/site-packages/pandas/core/apply.py:851\u001b[0m, in \u001b[0;36mFrameApply.apply_standard\u001b[0;34m(self)\u001b[0m\n\u001b[1;32m    850\u001b[0m \u001b[39mdef\u001b[39;00m \u001b[39mapply_standard\u001b[39m(\u001b[39mself\u001b[39m):\n\u001b[0;32m--> 851\u001b[0m     results, res_index \u001b[39m=\u001b[39m \u001b[39mself\u001b[39;49m\u001b[39m.\u001b[39;49mapply_series_generator()\n\u001b[1;32m    853\u001b[0m     \u001b[39m# wrap results\u001b[39;00m\n\u001b[1;32m    854\u001b[0m     \u001b[39mreturn\u001b[39;00m \u001b[39mself\u001b[39m\u001b[39m.\u001b[39mwrap_results(results, res_index)\n",
      "File \u001b[0;32m~/opt/anaconda3/lib/python3.9/site-packages/pandas/core/apply.py:867\u001b[0m, in \u001b[0;36mFrameApply.apply_series_generator\u001b[0;34m(self)\u001b[0m\n\u001b[1;32m    864\u001b[0m \u001b[39mwith\u001b[39;00m option_context(\u001b[39m\"\u001b[39m\u001b[39mmode.chained_assignment\u001b[39m\u001b[39m\"\u001b[39m, \u001b[39mNone\u001b[39;00m):\n\u001b[1;32m    865\u001b[0m     \u001b[39mfor\u001b[39;00m i, v \u001b[39min\u001b[39;00m \u001b[39menumerate\u001b[39m(series_gen):\n\u001b[1;32m    866\u001b[0m         \u001b[39m# ignore SettingWithCopy here in case the user mutates\u001b[39;00m\n\u001b[0;32m--> 867\u001b[0m         results[i] \u001b[39m=\u001b[39m \u001b[39mself\u001b[39;49m\u001b[39m.\u001b[39;49mf(v)\n\u001b[1;32m    868\u001b[0m         \u001b[39mif\u001b[39;00m \u001b[39misinstance\u001b[39m(results[i], ABCSeries):\n\u001b[1;32m    869\u001b[0m             \u001b[39m# If we have a view on v, we need to make a copy because\u001b[39;00m\n\u001b[1;32m    870\u001b[0m             \u001b[39m#  series_generator will swap out the underlying data\u001b[39;00m\n\u001b[1;32m    871\u001b[0m             results[i] \u001b[39m=\u001b[39m results[i]\u001b[39m.\u001b[39mcopy(deep\u001b[39m=\u001b[39m\u001b[39mFalse\u001b[39;00m)\n",
      "\u001b[1;32m/Users/wcrossb/Library/Mobile Documents/com~apple~CloudDocs/Desktop/Desktop - Will’s MacBook Pro/python/projects/personal/option_pricing/option_priving.ipynb Cell 4\u001b[0m in \u001b[0;36m<lambda>\u001b[0;34m(x)\u001b[0m\n\u001b[1;32m     <a href='vscode-notebook-cell:/Users/wcrossb/Library/Mobile%20Documents/com~apple~CloudDocs/Desktop/Desktop%20-%20Will%E2%80%99s%20MacBook%20Pro/python/projects/personal/option_pricing/option_priving.ipynb#W2sZmlsZQ%3D%3D?line=16'>17</a>\u001b[0m     \u001b[39mreturn\u001b[39;00m K\u001b[39m*\u001b[39mexp(\u001b[39m-\u001b[39mr\u001b[39m*\u001b[39mT)\u001b[39m-\u001b[39mS\u001b[39m*\u001b[39mbs_call(S,K,T,r,sigma)\n\u001b[1;32m     <a href='vscode-notebook-cell:/Users/wcrossb/Library/Mobile%20Documents/com~apple~CloudDocs/Desktop/Desktop%20-%20Will%E2%80%99s%20MacBook%20Pro/python/projects/personal/option_pricing/option_priving.ipynb#W2sZmlsZQ%3D%3D?line=18'>19</a>\u001b[0m sigma \u001b[39m=\u001b[39m \u001b[39m.01\u001b[39m\n\u001b[0;32m---> <a href='vscode-notebook-cell:/Users/wcrossb/Library/Mobile%20Documents/com~apple~CloudDocs/Desktop/Desktop%20-%20Will%E2%80%99s%20MacBook%20Pro/python/projects/personal/option_pricing/option_priving.ipynb#W2sZmlsZQ%3D%3D?line=20'>21</a>\u001b[0m df[\u001b[39m'\u001b[39m\u001b[39md1\u001b[39m\u001b[39m'\u001b[39m] \u001b[39m=\u001b[39m df\u001b[39m.\u001b[39mapply(\u001b[39mlambda\u001b[39;00m x: d1(x\u001b[39m.\u001b[39;49mUNDERLYING_LAST,x\u001b[39m.\u001b[39;49mSTRIKE,x\u001b[39m.\u001b[39;49mDTE,x\u001b[39m.\u001b[39;49mrf,x\u001b[39m.\u001b[39;49mC_IV), axis\u001b[39m=\u001b[39m\u001b[39m1\u001b[39m)\n\u001b[1;32m     <a href='vscode-notebook-cell:/Users/wcrossb/Library/Mobile%20Documents/com~apple~CloudDocs/Desktop/Desktop%20-%20Will%E2%80%99s%20MacBook%20Pro/python/projects/personal/option_pricing/option_priving.ipynb#W2sZmlsZQ%3D%3D?line=21'>22</a>\u001b[0m \u001b[39mprint\u001b[39m(df\u001b[39m.\u001b[39md1)\n\u001b[1;32m     <a href='vscode-notebook-cell:/Users/wcrossb/Library/Mobile%20Documents/com~apple~CloudDocs/Desktop/Desktop%20-%20Will%E2%80%99s%20MacBook%20Pro/python/projects/personal/option_pricing/option_priving.ipynb#W2sZmlsZQ%3D%3D?line=22'>23</a>\u001b[0m df[\u001b[39m'\u001b[39m\u001b[39mC_price_WCB\u001b[39m\u001b[39m'\u001b[39m] \u001b[39m=\u001b[39m df\u001b[39m.\u001b[39mapply(\u001b[39mlambda\u001b[39;00m x: bs_call(x\u001b[39m.\u001b[39mUNDERLYING_LAST,x\u001b[39m.\u001b[39mSTRIKE,x\u001b[39m.\u001b[39mDTE,x\u001b[39m.\u001b[39mrf,sigma), axis\u001b[39m=\u001b[39m\u001b[39m1\u001b[39m)\n",
      "\u001b[1;32m/Users/wcrossb/Library/Mobile Documents/com~apple~CloudDocs/Desktop/Desktop - Will’s MacBook Pro/python/projects/personal/option_pricing/option_priving.ipynb Cell 4\u001b[0m in \u001b[0;36md1\u001b[0;34m(S, K, T, r, sigma)\u001b[0m\n\u001b[1;32m      <a href='vscode-notebook-cell:/Users/wcrossb/Library/Mobile%20Documents/com~apple~CloudDocs/Desktop/Desktop%20-%20Will%E2%80%99s%20MacBook%20Pro/python/projects/personal/option_pricing/option_priving.ipynb#W2sZmlsZQ%3D%3D?line=6'>7</a>\u001b[0m \u001b[39mdef\u001b[39;00m \u001b[39md1\u001b[39m(S,K,T,r,sigma):\n\u001b[0;32m----> <a href='vscode-notebook-cell:/Users/wcrossb/Library/Mobile%20Documents/com~apple~CloudDocs/Desktop/Desktop%20-%20Will%E2%80%99s%20MacBook%20Pro/python/projects/personal/option_pricing/option_priving.ipynb#W2sZmlsZQ%3D%3D?line=7'>8</a>\u001b[0m     \u001b[39mreturn\u001b[39;00m(log(S\u001b[39m/\u001b[39mK)\u001b[39m+\u001b[39m(r\u001b[39m+\u001b[39msigma\u001b[39m*\u001b[39;49m\u001b[39m*\u001b[39;49m\u001b[39m2\u001b[39;49m\u001b[39m/\u001b[39m\u001b[39m2.\u001b[39m)\u001b[39m*\u001b[39mT)\u001b[39m/\u001b[39m(sigma\u001b[39m*\u001b[39msqrt(T))\n",
      "\u001b[0;31mTypeError\u001b[0m: unsupported operand type(s) for ** or pow(): 'str' and 'int'"
     ]
    }
   ],
   "source": [
    "from math import log, sqrt, pi, exp\n",
    "from scipy.stats import norm\n",
    "\n",
    "df['rf'] = 0\n",
    "\n",
    "\n",
    "def d1(S,K,T,r,sigma):\n",
    "    return(log(S/K)+(r+sigma**2/2.)*T)/(sigma*sqrt(T))\n",
    "\n",
    "def d2(S,K,T,r,sigma):\n",
    "    return d1(S,K,T,r,sigma)-sigma*sqrt(T)\n",
    "\n",
    "def bs_call(S,K,T,r,sigma):\n",
    "    return S*norm.cdf(d1(S,K,T,r,sigma))-K*exp(-r*T)*norm.cdf(d2(S,K,T,r,sigma))\n",
    "  \n",
    "def bs_put(S,K,T,r,sigma):\n",
    "    return K*exp(-r*T)-S*bs_call(S,K,T,r,sigma)\n",
    "\n",
    "sigma = .01\n",
    "\n",
    "df['d1'] = df.apply(lambda x: d1(x.UNDERLYING_LAST,x.STRIKE,x.DTE,x.rf,sigma), axis=1)\n",
    "print(df.d1)\n",
    "df['C_price_WCB'] = df.apply(lambda x: bs_call(x.UNDERLYING_LAST,x.STRIKE,x.DTE,x.rf,sigma), axis=1)\n",
    "\n",
    "df.plot(y=['C_price_WCB','C_LAST'], kind='line')"
   ]
  },
  {
   "cell_type": "code",
   "execution_count": 94,
   "metadata": {},
   "outputs": [
    {
     "ename": "TypeError",
     "evalue": "string indices must be integers",
     "output_type": "error",
     "traceback": [
      "\u001b[0;31m---------------------------------------------------------------------------\u001b[0m",
      "\u001b[0;31mTypeError\u001b[0m                                 Traceback (most recent call last)",
      "\u001b[1;32m/Users/wcrossb/Library/Mobile Documents/com~apple~CloudDocs/Desktop/Desktop - Will’s MacBook Pro/python/projects/personal/option_pricing/option_priving.ipynb Cell 4\u001b[0m in \u001b[0;36m<cell line: 15>\u001b[0;34m()\u001b[0m\n\u001b[1;32m     <a href='vscode-notebook-cell:/Users/wcrossb/Library/Mobile%20Documents/com~apple~CloudDocs/Desktop/Desktop%20-%20Will%E2%80%99s%20MacBook%20Pro/python/projects/personal/option_pricing/option_priving.ipynb#X11sZmlsZQ%3D%3D?line=11'>12</a>\u001b[0m today \u001b[39m=\u001b[39m datetime\u001b[39m.\u001b[39mnow()\n\u001b[1;32m     <a href='vscode-notebook-cell:/Users/wcrossb/Library/Mobile%20Documents/com~apple~CloudDocs/Desktop/Desktop%20-%20Will%E2%80%99s%20MacBook%20Pro/python/projects/personal/option_pricing/option_priving.ipynb#X11sZmlsZQ%3D%3D?line=12'>13</a>\u001b[0m one_year_ago \u001b[39m=\u001b[39m today\u001b[39m.\u001b[39mreplace(year\u001b[39m=\u001b[39mtoday\u001b[39m.\u001b[39myear\u001b[39m-\u001b[39m\u001b[39m1\u001b[39m)\n\u001b[0;32m---> <a href='vscode-notebook-cell:/Users/wcrossb/Library/Mobile%20Documents/com~apple~CloudDocs/Desktop/Desktop%20-%20Will%E2%80%99s%20MacBook%20Pro/python/projects/personal/option_pricing/option_priving.ipynb#X11sZmlsZQ%3D%3D?line=14'>15</a>\u001b[0m df \u001b[39m=\u001b[39m web\u001b[39m.\u001b[39;49mDataReader(stock, \u001b[39m'\u001b[39;49m\u001b[39myahoo\u001b[39;49m\u001b[39m'\u001b[39;49m, one_year_ago, today)\n\u001b[1;32m     <a href='vscode-notebook-cell:/Users/wcrossb/Library/Mobile%20Documents/com~apple~CloudDocs/Desktop/Desktop%20-%20Will%E2%80%99s%20MacBook%20Pro/python/projects/personal/option_pricing/option_priving.ipynb#X11sZmlsZQ%3D%3D?line=16'>17</a>\u001b[0m df \u001b[39m=\u001b[39m df\u001b[39m.\u001b[39msort_values(by\u001b[39m=\u001b[39m\u001b[39m\"\u001b[39m\u001b[39mDate\u001b[39m\u001b[39m\"\u001b[39m)\n\u001b[1;32m     <a href='vscode-notebook-cell:/Users/wcrossb/Library/Mobile%20Documents/com~apple~CloudDocs/Desktop/Desktop%20-%20Will%E2%80%99s%20MacBook%20Pro/python/projects/personal/option_pricing/option_priving.ipynb#X11sZmlsZQ%3D%3D?line=17'>18</a>\u001b[0m df \u001b[39m=\u001b[39m df\u001b[39m.\u001b[39mdropna()\n",
      "File \u001b[0;32m~/opt/anaconda3/lib/python3.9/site-packages/pandas/util/_decorators.py:207\u001b[0m, in \u001b[0;36mdeprecate_kwarg.<locals>._deprecate_kwarg.<locals>.wrapper\u001b[0;34m(*args, **kwargs)\u001b[0m\n\u001b[1;32m    205\u001b[0m     \u001b[39melse\u001b[39;00m:\n\u001b[1;32m    206\u001b[0m         kwargs[new_arg_name] \u001b[39m=\u001b[39m new_arg_value\n\u001b[0;32m--> 207\u001b[0m \u001b[39mreturn\u001b[39;00m func(\u001b[39m*\u001b[39;49margs, \u001b[39m*\u001b[39;49m\u001b[39m*\u001b[39;49mkwargs)\n",
      "File \u001b[0;32m~/opt/anaconda3/lib/python3.9/site-packages/pandas_datareader/data.py:370\u001b[0m, in \u001b[0;36mDataReader\u001b[0;34m(name, data_source, start, end, retry_count, pause, session, api_key)\u001b[0m\n\u001b[1;32m    367\u001b[0m     \u001b[39mraise\u001b[39;00m \u001b[39mNotImplementedError\u001b[39;00m(msg)\n\u001b[1;32m    369\u001b[0m \u001b[39mif\u001b[39;00m data_source \u001b[39m==\u001b[39m \u001b[39m\"\u001b[39m\u001b[39myahoo\u001b[39m\u001b[39m\"\u001b[39m:\n\u001b[0;32m--> 370\u001b[0m     \u001b[39mreturn\u001b[39;00m YahooDailyReader(\n\u001b[1;32m    371\u001b[0m         symbols\u001b[39m=\u001b[39;49mname,\n\u001b[1;32m    372\u001b[0m         start\u001b[39m=\u001b[39;49mstart,\n\u001b[1;32m    373\u001b[0m         end\u001b[39m=\u001b[39;49mend,\n\u001b[1;32m    374\u001b[0m         adjust_price\u001b[39m=\u001b[39;49m\u001b[39mFalse\u001b[39;49;00m,\n\u001b[1;32m    375\u001b[0m         chunksize\u001b[39m=\u001b[39;49m\u001b[39m25\u001b[39;49m,\n\u001b[1;32m    376\u001b[0m         retry_count\u001b[39m=\u001b[39;49mretry_count,\n\u001b[1;32m    377\u001b[0m         pause\u001b[39m=\u001b[39;49mpause,\n\u001b[1;32m    378\u001b[0m         session\u001b[39m=\u001b[39;49msession,\n\u001b[1;32m    379\u001b[0m     )\u001b[39m.\u001b[39;49mread()\n\u001b[1;32m    381\u001b[0m \u001b[39melif\u001b[39;00m data_source \u001b[39m==\u001b[39m \u001b[39m\"\u001b[39m\u001b[39miex\u001b[39m\u001b[39m\"\u001b[39m:\n\u001b[1;32m    382\u001b[0m     \u001b[39mreturn\u001b[39;00m IEXDailyReader(\n\u001b[1;32m    383\u001b[0m         symbols\u001b[39m=\u001b[39mname,\n\u001b[1;32m    384\u001b[0m         start\u001b[39m=\u001b[39mstart,\n\u001b[0;32m   (...)\u001b[0m\n\u001b[1;32m    390\u001b[0m         session\u001b[39m=\u001b[39msession,\n\u001b[1;32m    391\u001b[0m     )\u001b[39m.\u001b[39mread()\n",
      "File \u001b[0;32m~/opt/anaconda3/lib/python3.9/site-packages/pandas_datareader/base.py:253\u001b[0m, in \u001b[0;36m_DailyBaseReader.read\u001b[0;34m(self)\u001b[0m\n\u001b[1;32m    251\u001b[0m \u001b[39m# If a single symbol, (e.g., 'GOOG')\u001b[39;00m\n\u001b[1;32m    252\u001b[0m \u001b[39mif\u001b[39;00m \u001b[39misinstance\u001b[39m(\u001b[39mself\u001b[39m\u001b[39m.\u001b[39msymbols, (string_types, \u001b[39mint\u001b[39m)):\n\u001b[0;32m--> 253\u001b[0m     df \u001b[39m=\u001b[39m \u001b[39mself\u001b[39;49m\u001b[39m.\u001b[39;49m_read_one_data(\u001b[39mself\u001b[39;49m\u001b[39m.\u001b[39;49murl, params\u001b[39m=\u001b[39;49m\u001b[39mself\u001b[39;49m\u001b[39m.\u001b[39;49m_get_params(\u001b[39mself\u001b[39;49m\u001b[39m.\u001b[39;49msymbols))\n\u001b[1;32m    254\u001b[0m \u001b[39m# Or multiple symbols, (e.g., ['GOOG', 'AAPL', 'MSFT'])\u001b[39;00m\n\u001b[1;32m    255\u001b[0m \u001b[39melif\u001b[39;00m \u001b[39misinstance\u001b[39m(\u001b[39mself\u001b[39m\u001b[39m.\u001b[39msymbols, DataFrame):\n",
      "File \u001b[0;32m~/opt/anaconda3/lib/python3.9/site-packages/pandas_datareader/yahoo/daily.py:153\u001b[0m, in \u001b[0;36mYahooDailyReader._read_one_data\u001b[0;34m(self, url, params)\u001b[0m\n\u001b[1;32m    151\u001b[0m \u001b[39mtry\u001b[39;00m:\n\u001b[1;32m    152\u001b[0m     j \u001b[39m=\u001b[39m json\u001b[39m.\u001b[39mloads(re\u001b[39m.\u001b[39msearch(ptrn, resp\u001b[39m.\u001b[39mtext, re\u001b[39m.\u001b[39mDOTALL)\u001b[39m.\u001b[39mgroup(\u001b[39m1\u001b[39m))\n\u001b[0;32m--> 153\u001b[0m     data \u001b[39m=\u001b[39m j[\u001b[39m\"\u001b[39;49m\u001b[39mcontext\u001b[39;49m\u001b[39m\"\u001b[39;49m][\u001b[39m\"\u001b[39;49m\u001b[39mdispatcher\u001b[39;49m\u001b[39m\"\u001b[39;49m][\u001b[39m\"\u001b[39;49m\u001b[39mstores\u001b[39;49m\u001b[39m\"\u001b[39;49m][\u001b[39m\"\u001b[39;49m\u001b[39mHistoricalPriceStore\u001b[39;49m\u001b[39m\"\u001b[39;49m]\n\u001b[1;32m    154\u001b[0m \u001b[39mexcept\u001b[39;00m \u001b[39mKeyError\u001b[39;00m:\n\u001b[1;32m    155\u001b[0m     msg \u001b[39m=\u001b[39m \u001b[39m\"\u001b[39m\u001b[39mNo data fetched for symbol \u001b[39m\u001b[39m{}\u001b[39;00m\u001b[39m using \u001b[39m\u001b[39m{}\u001b[39;00m\u001b[39m\"\u001b[39m\n",
      "\u001b[0;31mTypeError\u001b[0m: string indices must be integers"
     ]
    }
   ],
   "source": [
    "from datetime import datetime, date\n",
    "import numpy as np\n",
    "import pandas as pd\n",
    "import pandas as pd\n",
    "from pandas import DataFrame\n",
    "import pandas_datareader.data as web\n",
    "\n",
    "stock = 'SPY'\n",
    "expiry = '12-18-2022'\n",
    "strike_price = 370\n",
    "\n",
    "today = datetime.now()\n",
    "one_year_ago = today.replace(year=today.year-1)\n",
    "\n",
    "df = web.DataReader(stock, 'yahoo', one_year_ago, today)\n",
    "\n",
    "df = df.sort_values(by=\"Date\")\n",
    "df = df.dropna()\n",
    "df = df.assign(close_day_before=df.Close.shift(1))\n",
    "df['returns'] = ((df.Close - df.close_day_before)/df.close_day_before)\n",
    "\n",
    "sigma = np.sqrt(252) * df['returns'].std()\n",
    "uty = (web.DataReader(\n",
    "    \"^TNX\", 'yahoo', today.replace(day=today.day-1), today)['Close'].iloc[-1])/100\n",
    "lcp = df['Close'].iloc[-1]\n",
    "t = (datetime.strptime(expiry, \"%m-%d-%Y\") - datetime.utcnow()).days / 365\n",
    "\n",
    "print('The Option Price is: ', bs_call(lcp, strike_price, t, uty, sigma))"
   ]
  },
  {
   "cell_type": "code",
   "execution_count": 72,
   "metadata": {},
   "outputs": [
    {
     "name": "stdout",
     "output_type": "stream",
     "text": [
      "297.0310914358504\n"
     ]
    },
    {
     "data": {
      "text/plain": [
       "<AxesSubplot:xlabel='date'>"
      ]
     },
     "execution_count": 72,
     "metadata": {},
     "output_type": "execute_result"
    },
    {
     "data": {
      "image/png": "[encoded data removed]",
      "text/plain": [
       "<Figure size 432x288 with 1 Axes>"
      ]
     },
     "metadata": {
      "needs_background": "light"
     },
     "output_type": "display_data"
    }
   ],
   "source": [
    "from scipy.stats import norm\n",
    "import matplotlib.pyplot as plt\n",
    "\n",
    "#SOURCE FOR PRICING CODE \n",
    "#https://www.quantstart.com/articles/European-Vanilla-Call-Put-Option-Pricing-with-Python/\n",
    "\n",
    "def d_j(j, S, K, r, v, T):\n",
    "    # S = Underlying\n",
    "    # K = Strike\n",
    "    # r = Risk_free rate\n",
    "    # T is time to maturity\n",
    "    # v = volatility of underlying \n",
    "    # \n",
    "    \"\"\"\n",
    "    d_j = \\frac{log(\\frac{S}{K})+(r+(-1)^{j-1} \\frac{1}{2}v^2)T}{v sqrt(T)}\n",
    "    \"\"\"\n",
    "    #print(j)\n",
    "    #print(K)\n",
    "    #print(r)\n",
    "    #print(T)\n",
    "    \n",
    "    return (np.log(S/K) + (r + ((-1)**(j-1))*0.5*v*v)*T)/(v*(T**0.5))\n",
    "\n",
    "def vanilla_call_price(S, K, r, v, T):\n",
    "    \"\"\"\n",
    "    Price of a European call option struck at K, with\n",
    "    spot S, constant rate r, constant vol v (over the\n",
    "    life of the option) and time to maturity T\n",
    "    \"\"\"\n",
    "    price = S * norm.cdf(d_j(1, S, K, r, v, T)) - K*np.exp(-r*T) * norm.cdf(d_j(2, S, K, r, v, T))\n",
    "    return price \n",
    "        \n",
    "df['rf'] = 0.05\n",
    "df['C_IV'] = pd.to_numeric(df['C_IV'])\n",
    "\n",
    "\n",
    "print(vanilla_call_price(300,20,.05,20,.04))\n",
    "\n",
    "df['C_price_WCB'] = df.apply(lambda x: vanilla_call_price(x.UNDERLYING_LAST,x.STRIKE,x.rf,x.C_IV,x.DTE), axis=1)\n",
    "\n",
    "df.plot(y=['UNDERLYING_LAST','C_price_WCB','C_LAST'], kind='line')\n"
   ]
  }
 ],
 "metadata": {
  "kernelspec": {
   "display_name": "Python 3.9.12 ('base')",
   "language": "python",
   "name": "python3"
  },
  "language_info": {
   "codemirror_mode": {
    "name": "ipython",
    "version": 3
   },
   "file_extension": ".py",
   "mimetype": "text/x-python",
   "name": "python",
   "nbconvert_exporter": "python",
   "pygments_lexer": "ipython3",
   "version": "3.9.12"
  },
  "orig_nbformat": 4,
  "vscode": {
   "interpreter": {
    "hash": "bb21f767a211495abec8bf77423259a843a4f607ac418d71c8e2c640fac1142a"
   }
  }
 },
 "nbformat": 4,
 "nbformat_minor": 2
}
